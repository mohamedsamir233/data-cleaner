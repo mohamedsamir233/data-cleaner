{
 "cells": [
  {
   "cell_type": "code",
   "execution_count": null,
   "id": "382d3c57-1bc0-4be3-8585-e9442e75bf87",
   "metadata": {},
   "outputs": [],
   "source": [
    "import pandas as pd\n",
    "from sklearn.impute import SimpleImputer"
   ]
  },
  {
   "cell_type": "code",
   "execution_count": null,
   "id": "16803382-02bf-4d0a-8787-4f4d24be6344",
   "metadata": {},
   "outputs": [],
   "source": [
    "df = pd.read_csv(\"movies.csv\",encoding = \"ISO-8859-1\")"
   ]
  },
  {
   "cell_type": "code",
   "execution_count": null,
   "id": "1f7d650f-8076-493b-8c47-ec6a8157300b",
   "metadata": {},
   "outputs": [],
   "source": [
    "# data clean and replace missing values with most frequent values\n",
    "imputer = SimpleImputer(strategy=\"most_frequent\")\n",
    "\n",
    "df_imputed = pd.DataFrame(imputer.fit_transform(df), columns=df.columns)\n",
    "df_imputed.to_csv('moives_after_clean.csv')"
   ]
  },
  {
   "cell_type": "code",
   "execution_count": null,
   "id": "13bb1e27-fa14-4d7d-809b-06a8ae6efba3",
   "metadata": {},
   "outputs": [],
   "source": []
  }
 ],
 "metadata": {
  "kernelspec": {
   "display_name": "Python 3 (ipykernel)",
   "language": "python",
   "name": "python3"
  },
  "language_info": {
   "codemirror_mode": {
    "name": "ipython",
    "version": 3
   },
   "file_extension": ".py",
   "mimetype": "text/x-python",
   "name": "python",
   "nbconvert_exporter": "python",
   "pygments_lexer": "ipython3",
   "version": "3.10.11"
  }
 },
 "nbformat": 4,
 "nbformat_minor": 5
}
